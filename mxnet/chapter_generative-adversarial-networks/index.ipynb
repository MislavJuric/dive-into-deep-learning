{
 "cells": [
  {
   "cell_type": "markdown",
   "metadata": {
    "origin_pos": 0
   },
   "source": [
    "# Generative Adversarial Networks\n",
    ":label:`chap_gans`\n",
    "\n",
    ":begin_tab:toc\n",
    " - [gan](gan.ipynb)\n",
    " - [dcgan](dcgan.ipynb)\n",
    ":end_tab:\n"
   ]
  }
 ],
 "metadata": {
  "language_info": {
   "name": "python"
  }
 },
 "nbformat": 4,
 "nbformat_minor": 4
}