{
 "cells": [
  {
   "cell_type": "markdown",
   "metadata": {
    "origin_pos": 0
   },
   "source": [
    "```eval_rst\n",
    ".. only:: html\n",
    "\n",
    "   References\n",
    "   ==========\n",
    "```\n",
    "\n",
    ":bibliography:`../d2l.bib`\n"
   ]
  }
 ],
 "metadata": {
  "language_info": {
   "name": "python"
  }
 },
 "nbformat": 4,
 "nbformat_minor": 4
}